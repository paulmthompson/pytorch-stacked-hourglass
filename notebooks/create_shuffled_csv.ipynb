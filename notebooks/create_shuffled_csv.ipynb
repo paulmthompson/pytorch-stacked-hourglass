{
 "cells": [
  {
   "cell_type": "code",
   "execution_count": null,
   "id": "d62191be-18de-49b7-8157-ca8f9638a0b5",
   "metadata": {},
   "outputs": [],
   "source": [
    "import csv"
   ]
  },
  {
   "cell_type": "code",
   "execution_count": null,
   "id": "da751af4-641e-4c46-8b50-a3f9942f9f0b",
   "metadata": {},
   "outputs": [],
   "source": [
    "csv_in_path = '/home/wanglab/Data/image_labels.csv'\n",
    "csv_out_path = '/home/wanglab/Data/image_labels_shuffled.csv'\n",
    "\n",
    "label_list = []\n",
    "\n",
    "csvfile = open(csv_in_path,newline='')\n",
    "reader = csv.reader(csvfile,delimiter=',')\n",
    "for row in reader:\n",
    "    label_list.append(row)"
   ]
  },
  {
   "cell_type": "code",
   "execution_count": null,
   "id": "be603417-fdec-4a43-aeea-d66a77b26800",
   "metadata": {},
   "outputs": [],
   "source": [
    "from random import Random\n",
    "Random(1234).shuffle(label_list)"
   ]
  },
  {
   "cell_type": "code",
   "execution_count": null,
   "id": "ec0eb9b1-45ab-44ff-a83c-cc0b88e8c690",
   "metadata": {},
   "outputs": [],
   "source": [
    "csvfile = open(csv_out_path,'w',newline='')\n",
    "writer = csv.writer(csvfile,delimiter=',')\n",
    "for row in label_list:\n",
    "    writer.writerow(row)"
   ]
  }
 ],
 "metadata": {
  "kernelspec": {
   "display_name": "Python [conda env:torch-wsl]",
   "language": "python",
   "name": "conda-env-torch-wsl-py"
  },
  "language_info": {
   "codemirror_mode": {
    "name": "ipython",
    "version": 3
   },
   "file_extension": ".py",
   "mimetype": "text/x-python",
   "name": "python",
   "nbconvert_exporter": "python",
   "pygments_lexer": "ipython3",
   "version": "3.11.4"
  }
 },
 "nbformat": 4,
 "nbformat_minor": 5
}
